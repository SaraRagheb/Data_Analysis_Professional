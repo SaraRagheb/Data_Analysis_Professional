{
 "cells": [
  {
   "cell_type": "markdown",
   "metadata": {},
   "source": [
    "\n",
    "# Project: TMDb movie Data Analysis\n",
    "\n",
    "\n",
    "\n",
    "## Table of Contents\n",
    "<ul>\n",
    "<li><a href=\"#intro\">Introduction</a></li>\n",
    "<li><a href=\"#wrangling\">Data Wrangling</a></li>\n",
    "<li><a href=\"#eda\">Exploratory Data Analysis</a></li>\n",
    "<li><a href=\"#conclusions\">Conclusions</a></li>\n",
    "</ul>"
   ]
  },
  {
   "cell_type": "markdown",
   "metadata": {},
   "source": [
    "# <a id='intro'></a>\n",
    "## Introduction\n",
    "\n",
    "### Dataset Description \n",
    "\n",
    ">This data set contains information about 10,000 movies collected from The Movie Database (TMDb), including user ratings and revenue.Data analysis process is done using numpy , pandas and matplotlib for these TMDb movie data set.\n",
    "\n",
    "### Columns:\n",
    ">we have 21 columns = ['id', 'imdb_id', 'popularity', 'budget', 'revenue', 'original_title',\n",
    "       'cast', 'homepage', 'director', 'tagline', 'keywords', 'overview',\n",
    "       'runtime', 'genres', 'production_companies', 'release_date',\n",
    "       'vote_count', 'vote_average', 'release_year', 'budget_adj',\n",
    "       'revenue_adj']\n",
    "\n",
    "\n",
    "       \n",
    "### Question(s) for Analysis\n",
    "\n",
    ">1. Which generes are most popular from year to year? \n",
    ">2. What kinds of properties are associated with movies that have high revenues?\n",
    ">3. Which years have the highest and lowest release of movies?\n",
    ">4. Which movies have Highest And Lowest Budget?\n",
    ">5. what is the average Runtime Of Movies From Year To Year?\n",
    "\n"
   ]
  },
  {
   "cell_type": "code",
   "execution_count": 1,
   "metadata": {},
   "outputs": [
    {
     "name": "stderr",
     "output_type": "stream",
     "text": [
      "UsageError: Line magic function `%` not found.\n"
     ]
    }
   ],
   "source": [
    "# Use this cell to set up import statements for all of the packages that you\n",
    "#   plan to use.\n",
    "# Remember to include a 'magic word' so that your visualizations are plotted\n",
    "#   inline with the notebook. See this page for more:\n",
    "#   http://ipython.readthedocs.io/en/stable/interactive/magics.html\n",
    "import numpy as np\n",
    "import pandas as pd\n",
    "import matplotlib.pyplot as plt\n",
    "import seaborn as sns\n",
    "% matplotlib inline\n"
   ]
  },
  {
   "cell_type": "markdown",
   "metadata": {},
   "source": [
    "<a id='wrangling'></a>\n",
    "## Data Wrangling\n",
    "\n",
    "> After we will observe the dataset and look at the questions related to this dataset for the analysis, we will clean unused data and keep up the important data.\n",
    "\n",
    "\n",
    "\n",
    "\n",
    "### General Properties\n"
   ]
  },
  {
   "cell_type": "code",
   "execution_count": null,
   "metadata": {},
   "outputs": [],
   "source": [
    "# Load your data and print out a few lines. Perform operations to inspect data\n",
    "#   types and look for instances of missing or possibly errant data.\n",
    "movie_df = pd.read_csv('Database_TMDb_movie_data/tmdb-movies.csv')\n",
    "movie_df.head(31)\n"
   ]
  },
  {
   "cell_type": "code",
   "execution_count": null,
   "metadata": {},
   "outputs": [],
   "source": [
    "movie_df.tail(10)"
   ]
  },
  {
   "cell_type": "code",
   "execution_count": null,
   "metadata": {},
   "outputs": [],
   "source": [
    "#print the number of rows and columns of data set\n",
    "movie_df.shape"
   ]
  },
  {
   "cell_type": "code",
   "execution_count": null,
   "metadata": {},
   "outputs": [],
   "source": [
    "# show max,min and mean .... of data set\n",
    "movie_df.describe()"
   ]
  },
  {
   "cell_type": "code",
   "execution_count": null,
   "metadata": {},
   "outputs": [],
   "source": [
    "# print the conc summary of data set\n",
    "movie_df.info()"
   ]
  },
  {
   "cell_type": "code",
   "execution_count": null,
   "metadata": {},
   "outputs": [],
   "source": [
    "#count total rows in each column which contain null values\n",
    "movie_df.isna().sum()"
   ]
  },
  {
   "cell_type": "code",
   "execution_count": null,
   "metadata": {},
   "outputs": [],
   "source": [
    "#count total rows in each column which contain duplicates values\n",
    "movie_df.duplicated().sum()"
   ]
  },
  {
   "cell_type": "markdown",
   "metadata": {},
   "source": [
    "\n",
    "### Data Cleaning\n",
    "> from print the information of data set \n",
    "> 1. we need to remove nan value in columns\n",
    "> 2. we need to remove movie have 0 budget\n",
    "> 3. we need to remve duplicates\n",
    "> 4. we need to remove unused coulumns\n",
    "> 5. we need to change format to datatime\n",
    "\n",
    "\n",
    "\n",
    " "
   ]
  },
  {
   "cell_type": "markdown",
   "metadata": {},
   "source": [
    "#### 1. Remove duplicat"
   ]
  },
  {
   "cell_type": "code",
   "execution_count": null,
   "metadata": {},
   "outputs": [],
   "source": [
    "# remove duplicate of data\n",
    "movie_df.drop_duplicates(inplace = True)\n",
    "#check duplicated row is removed \n",
    "movie_df.duplicated().sum()"
   ]
  },
  {
   "cell_type": "markdown",
   "metadata": {},
   "source": [
    "#### 2. Remove unused columns"
   ]
  },
  {
   "cell_type": "code",
   "execution_count": null,
   "metadata": {},
   "outputs": [],
   "source": [
    "# print the 21 coloumns \n",
    "movie_df.columns"
   ]
  },
  {
   "cell_type": "code",
   "execution_count": null,
   "metadata": {},
   "outputs": [],
   "source": [
    "# removed columns unused like : \n",
    "movie_df.drop(['imdb_id','homepage','tagline','keywords','overview','budget_adj','revenue_adj'],axis =1,inplace = True)"
   ]
  },
  {
   "cell_type": "code",
   "execution_count": null,
   "metadata": {},
   "outputs": [],
   "source": [
    "#print the df columns after removing\n",
    "movie_df.columns"
   ]
  },
  {
   "cell_type": "markdown",
   "metadata": {},
   "source": [
    "#### 3. remove nan values"
   ]
  },
  {
   "cell_type": "code",
   "execution_count": null,
   "metadata": {},
   "outputs": [],
   "source": [
    "#count total rows in each column which contain null values\n",
    "movie_df.isna().sum()"
   ]
  },
  {
   "cell_type": "code",
   "execution_count": null,
   "metadata": {},
   "outputs": [],
   "source": [
    "# remove nan values \n",
    "movie_df.dropna(inplace=True)\n"
   ]
  },
  {
   "cell_type": "code",
   "execution_count": null,
   "metadata": {},
   "outputs": [],
   "source": [
    "#count total rows in each column which contain null values\n",
    "movie_df.isna().sum()"
   ]
  },
  {
   "cell_type": "markdown",
   "metadata": {},
   "source": [
    "#### 4.remove movie have 0 budget or revenue"
   ]
  },
  {
   "cell_type": "code",
   "execution_count": null,
   "metadata": {},
   "outputs": [],
   "source": [
    "#count total rows have 0 budget or revenue \n",
    "movie_df.query('budget == 0')['budget'].value_counts()"
   ]
  },
  {
   "cell_type": "code",
   "execution_count": null,
   "metadata": {},
   "outputs": [],
   "source": [
    "movie_df.query('revenue == 0')['revenue'].value_counts()"
   ]
  },
  {
   "cell_type": "code",
   "execution_count": null,
   "metadata": {},
   "outputs": [],
   "source": [
    "# remove o budget and revenue\n",
    "movie_df = movie_df[(movie_df[['budget','revenue']] != 0).all(axis=1)]\n",
    "movie_df = movie_df.reset_index()"
   ]
  },
  {
   "cell_type": "code",
   "execution_count": null,
   "metadata": {},
   "outputs": [],
   "source": [
    "movie_df.head(31)"
   ]
  },
  {
   "cell_type": "code",
   "execution_count": null,
   "metadata": {},
   "outputs": [],
   "source": [
    "#check remove zero budget\n",
    "movie_df.query('budget == 0')['budget'].value_counts()"
   ]
  },
  {
   "cell_type": "code",
   "execution_count": null,
   "metadata": {},
   "outputs": [],
   "source": [
    "movie_df.query('revenue == 0')['revenue'].value_counts()"
   ]
  },
  {
   "cell_type": "markdown",
   "metadata": {},
   "source": [
    "#### 5. change data time format"
   ]
  },
  {
   "cell_type": "code",
   "execution_count": null,
   "metadata": {},
   "outputs": [],
   "source": [
    "#change data time format and show it \n",
    "movie_df['release_date'] = pd.to_datetime(movie_df['release_date'])\n",
    "movie_df['release_date'].head()"
   ]
  },
  {
   "cell_type": "code",
   "execution_count": null,
   "metadata": {},
   "outputs": [],
   "source": [
    "# print new dta set after cleaning \n",
    "movie_df.head()"
   ]
  },
  {
   "cell_type": "code",
   "execution_count": null,
   "metadata": {},
   "outputs": [],
   "source": [
    "movie_df.info()"
   ]
  },
  {
   "cell_type": "code",
   "execution_count": null,
   "metadata": {},
   "outputs": [],
   "source": [
    "movie_df.shape"
   ]
  },
  {
   "cell_type": "markdown",
   "metadata": {},
   "source": [
    "<a id='eda'></a>\n",
    "## Exploratory Data Analysis\n",
    "\n",
    "> we cleaned your data, then we are ready to move on to exploration. we will Compute statistics and create visualizations with the goal of addressing the research questions that you posed in the Introduction section. \n",
    "\n",
    "### 1. Which generes are most popular from year to year? "
   ]
  },
  {
   "cell_type": "code",
   "execution_count": null,
   "metadata": {},
   "outputs": [],
   "source": [
    "#create empty list of all generes \n",
    "genres_list = []\n",
    "# create array of years\n",
    "years_list = np.array(movie_df['release_year'])\n",
    "#put generes columnus in generes_list \n",
    "#generes columns contain multiple values separated by pipe (|) so we use split to split it on empty generes_list\\\n",
    "for genres in movie_df['genres'] :\n",
    "    genres = genres.split('|')\n",
    "    for genre in genres :\n",
    "        if genre not in genres_list:\n",
    "            genres_list.append(genre)"
   ]
  },
  {
   "cell_type": "code",
   "execution_count": null,
   "metadata": {},
   "outputs": [],
   "source": [
    "#create popularity data frame index = genres_list and columns years range\n",
    "popularity_df = pd.DataFrame(index = genres_list, columns = range(min(years_list), max(years_list)+1))\n",
    "popularity_df"
   ]
  },
  {
   "cell_type": "code",
   "execution_count": null,
   "metadata": {},
   "outputs": [],
   "source": [
    "# replace nan value with zero\n",
    "popularity_df = popularity_df.fillna(value = 0.0)\n",
    "popularity_df.head()"
   ]
  },
  {
   "cell_type": "code",
   "execution_count": null,
   "metadata": {},
   "outputs": [],
   "source": [
    "# fill popularity_df with values of popularity for each  geners\n",
    "i = 0\n",
    "for genres in movie_df['genres'] :\n",
    "    split_genre = genres.split('|')\n",
    "    popularity_df.loc[split_genre, years_list[i]] =  popularity_df.loc[split_genre, years_list[i]] + movie_df['popularity'][i]\n",
    "    i+=1\n",
    "    \n",
    "popularity_df"
   ]
  },
  {
   "cell_type": "code",
   "execution_count": null,
   "metadata": {},
   "outputs": [],
   "source": [
    "#plot the bar plot of the standardised data. in last 3 years \n",
    "popularity_df.iloc[:,-3:].plot(kind='bar',figsize = (15,6),fontsize=13)\n",
    "#setup the title and labels of the plot.\n",
    "plt.title(\"Most Popular Genre Over Year To Year\",fontsize=15)\n",
    "plt.xlabel(\"Genres\",fontsize = 14)\n",
    "plt.ylabel(\"Popularity (Standerd Units)\",fontsize=14)\n"
   ]
  },
  {
   "cell_type": "code",
   "execution_count": null,
   "metadata": {},
   "outputs": [],
   "source": [
    "#How the popularity of the genre differ year by year.\n",
    "#make a subplot of size 3,3.\n",
    "fig, axs = plt.subplots(5,4,figsize = (16,10))\n",
    "fig.suptitle('Genre Popularity Over Year To Year',fontsize = 16)\n",
    "for genre ,ax in zip(genres_list, axs.ravel()):\n",
    "    popularity_df.loc[genre].plot(label = genre,ax=ax,c=np.random.rand(3,))\n",
    "\n",
    "\n",
    "\n",
    "        "
   ]
  },
  {
   "cell_type": "markdown",
   "metadata": {},
   "source": [
    "### 2. What kinds of properties are associated with movies that have high revenues?"
   ]
  },
  {
   "cell_type": "code",
   "execution_count": null,
   "metadata": {},
   "outputs": [],
   "source": [
    "# plot revenues vs some properties (budget,runtime,vot_average,Popularity,release_year)\n",
    "fig,axes = plt.subplots(3,2,figsize = (16,6))\n",
    "properties = [\"budget\",\"runtime\",\"vote_average\",\"release_year\",\"popularity\"]\n",
    "fig.suptitle(\"Revenue Vs (budget,runtime,vot_average,Popularity,release_year)\",fontsize=14)\n",
    "for item,ax in zip(properties,axes.ravel()):\n",
    "    movie_df.plot.scatter(x=\"revenue\",y=\"budget\",ax=ax,c=np.random.rand(3,))"
   ]
  },
  {
   "cell_type": "markdown",
   "metadata": {},
   "source": [
    "### 3. Which years have the highest and lowest release of movies?"
   ]
  },
  {
   "cell_type": "code",
   "execution_count": null,
   "metadata": {},
   "outputs": [],
   "source": [
    "# we groupy movies in every years and count them \n",
    "movies_every_year = movie_df.groupby('release_year').count()['id']\n",
    "movies_every_year.head()"
   ]
  },
  {
   "cell_type": "code",
   "execution_count": null,
   "metadata": {},
   "outputs": [],
   "source": [
    "#max and min \n",
    "movies_every_year.max()"
   ]
  },
  {
   "cell_type": "code",
   "execution_count": null,
   "metadata": {},
   "outputs": [],
   "source": [
    "movies_every_year.min()"
   ]
  },
  {
   "cell_type": "code",
   "execution_count": null,
   "metadata": {
    "scrolled": true
   },
   "outputs": [],
   "source": [
    "#plot movie \n",
    "movies_every_year.plot.bar(figsize = (18,10))\n"
   ]
  },
  {
   "cell_type": "markdown",
   "metadata": {},
   "source": [
    "### 4. Which movies have Highest And Lowest Budget?"
   ]
  },
  {
   "cell_type": "code",
   "execution_count": null,
   "metadata": {},
   "outputs": [],
   "source": [
    "#choose 20 top movie budget and plot them \n",
    "top_movie_budget =movie_df.sort_values(by=['budget'],ascending=False)\n",
    "top_movie_budget.head()"
   ]
  },
  {
   "cell_type": "code",
   "execution_count": null,
   "metadata": {},
   "outputs": [],
   "source": [
    "#plot original_title with budget\n",
    "top_movie_budget.iloc[0:20,].plot(x=\"original_title\",y=\"budget\",figsize = (18,10), marker='o')\n"
   ]
  },
  {
   "cell_type": "code",
   "execution_count": null,
   "metadata": {},
   "outputs": [],
   "source": [
    "#choose 20 lowest movie budget and plot them \n",
    "lowest_movie_budget =movie_df.sort_values(by=['budget'])\n",
    "lowest_movie_budget.head()"
   ]
  },
  {
   "cell_type": "code",
   "execution_count": null,
   "metadata": {},
   "outputs": [],
   "source": [
    "#plot original_title with budget\n",
    "lowest_movie_budget.iloc[0:20,].plot(x=\"original_title\",y=\"budget\",figsize = (18,10), marker='o')\n"
   ]
  },
  {
   "cell_type": "code",
   "execution_count": null,
   "metadata": {},
   "outputs": [],
   "source": [
    "high_budget = movie_df.budget.max()\n",
    "high_budget"
   ]
  },
  {
   "cell_type": "code",
   "execution_count": null,
   "metadata": {},
   "outputs": [],
   "source": [
    "high_budget_movie = movie_df.query('budget == 425000000')['original_title']\n",
    "high_budget_movie"
   ]
  },
  {
   "cell_type": "code",
   "execution_count": null,
   "metadata": {},
   "outputs": [],
   "source": [
    "low_budget = movie_df.budget.min()\n",
    "low_budget"
   ]
  },
  {
   "cell_type": "code",
   "execution_count": null,
   "metadata": {},
   "outputs": [],
   "source": [
    "low_budget_movie = movie_df.query('budget == 1')['original_title']\n",
    "low_budget_movie"
   ]
  },
  {
   "cell_type": "markdown",
   "metadata": {},
   "source": [
    "### 5. what is the average Runtime Of Movies From Year To Year?"
   ]
  },
  {
   "cell_type": "code",
   "execution_count": null,
   "metadata": {},
   "outputs": [],
   "source": [
    "# groupby release year\n",
    "ave_runtime = movie_df.groupby('release_year').runtime.mean()\n",
    "ave_runtime"
   ]
  },
  {
   "cell_type": "code",
   "execution_count": null,
   "metadata": {},
   "outputs": [],
   "source": [
    "ave_runtime.plot.bar(figsize = (18,10))\n"
   ]
  },
  {
   "cell_type": "markdown",
   "metadata": {},
   "source": [
    "<a id='conclusions'></a>\n",
    "## Conclusions\n",
    "\n",
    ">1. Action is most popular genres from year to year\n",
    ">2. Revenus is increaseed with budget and runtime \n",
    ">3. in 2011 there are the max release of movies \n",
    ">4. The Warrior's Way has the highest budget\n",
    ">5. Lost & Found - Love, Wedding, Marriage have the lowest budget\n",
    ">6. in 1965 there is the max averagre runtime \n",
    "\n",
    ">#### Limitations\n",
    "1. During the data cleaning process, I split the data seperated by '|' into lists for easy parsing during the exploration phase. This increases the time taken in calculating the result.\n",
    "2. In cleaning process,we remove nan and zero data so we missed some result of some movies so the result is not sure 100 percentage\n"
   ]
  },
  {
   "cell_type": "code",
   "execution_count": 2,
   "metadata": {},
   "outputs": [
    {
     "data": {
      "text/plain": [
       "255"
      ]
     },
     "execution_count": 2,
     "metadata": {},
     "output_type": "execute_result"
    }
   ],
   "source": [
    "from subprocess import call\n",
    "call(['python', '-m', 'nbconvert', 'Investigate_a_Dataset.ipynb'])"
   ]
  },
  {
   "cell_type": "code",
   "execution_count": null,
   "metadata": {},
   "outputs": [],
   "source": []
  }
 ],
 "metadata": {
  "kernelspec": {
   "display_name": "Python 3",
   "language": "python",
   "name": "python3"
  },
  "language_info": {
   "codemirror_mode": {
    "name": "ipython",
    "version": 3
   },
   "file_extension": ".py",
   "mimetype": "text/x-python",
   "name": "python",
   "nbconvert_exporter": "python",
   "pygments_lexer": "ipython3",
   "version": "3.8.8"
  }
 },
 "nbformat": 4,
 "nbformat_minor": 2
}
